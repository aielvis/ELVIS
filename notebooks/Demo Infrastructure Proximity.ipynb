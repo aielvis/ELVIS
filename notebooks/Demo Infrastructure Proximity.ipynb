{
 "cells": [
  {
   "cell_type": "code",
   "execution_count": 13,
   "metadata": {},
   "outputs": [],
   "source": [
    "from os.path import dirname, join\n",
    "\n",
    "import geopandas as gpd\n",
    "import numpy as np\n",
    "import pandas as pd\n",
    "import fiona\n",
    "\n",
    "from elvis import datasets\n",
    "from elvis.io.boem_from_file import get_blocks, boem_platform_structures\n",
    "\n",
    "from elvis.visualization.mapping import (bathymetry_underlay,\n",
    "                                         create_map_from_geojson,\n",
    "                                         colors as company_colors,\n",
    "                                         geojson_underlay)\n",
    "\n",
    "base_directory = dirname(datasets.__file__)"
   ]
  },
  {
   "cell_type": "markdown",
   "metadata": {},
   "source": [
    "Make an attribute for \"proximity\" to infrastructure; by block as a time series (based on install date). \n",
    "To simplify things we'll bin my quarter (three month period).\n",
    "\n",
    "### Remove data less than 30-years old. "
   ]
  },
  {
   "cell_type": "code",
   "execution_count": 14,
   "metadata": {},
   "outputs": [],
   "source": [
    "period_size = 'Q'"
   ]
  },
  {
   "cell_type": "code",
   "execution_count": 15,
   "metadata": {},
   "outputs": [],
   "source": [
    "blocks = get_blocks(base_directory)\n",
    "blocks.set_index(\"AREABLK\", inplace=True)"
   ]
  },
  {
   "cell_type": "code",
   "execution_count": 16,
   "metadata": {},
   "outputs": [],
   "source": [
    "\n",
    "platform_structures = boem_platform_structures(base_directory)\n",
    "platform_structures[\"AREABLK\"] = platform_structures[\"AREABLK\"].str.replace(\"\\W\",\"\")\n",
    "\n",
    "#\n",
    "platform_structures[\"Install Period\"] = platform_structures[\"Install Date\"].dt.to_period(period_size)\n",
    "platform_structures[\"Removal Period\"] = platform_structures[\"Removal Date\"].dt.to_period(period_size)\n",
    "\n",
    "date_range = pd.date_range(start=platform_structures[\"Install Date\"].min(), \n",
    "                           end=pd.datetime.now(), freq=period_size)\n",
    "periods = date_range.to_period(period_size)"
   ]
  },
  {
   "cell_type": "code",
   "execution_count": 17,
   "metadata": {},
   "outputs": [],
   "source": [
    "# go forware\n",
    "has_infra = set()\n",
    "has_infra_by_quarter = {}\n",
    "\n",
    "for period in periods:\n",
    "    #\n",
    "    iindx = platform_structures[\"Install Period\"] == period\n",
    "    if np.any(iindx):\n",
    "        has_infra = has_infra.union(set(platform_structures[iindx][\"AREABLK\"].values))\n",
    "    \n",
    "    rindx = platform_structures[\"Removal Period\"] == period\n",
    "    if np.any(rindx):\n",
    "        has_infra = has_infra - set(platform_structures[rindx][\"AREABLK\"].values)\n",
    "    \n",
    "    has_infra_by_quarter[period] = has_infra"
   ]
  },
  {
   "cell_type": "markdown",
   "metadata": {},
   "source": [
    "Places with infrastructure"
   ]
  },
  {
   "cell_type": "code",
   "execution_count": 18,
   "metadata": {},
   "outputs": [
    {
     "data": {
      "application/vnd.jupyter.widget-view+json": {
       "model_id": "9a6805b10e684a4fbd97f1becf57795c",
       "version_major": 2,
       "version_minor": 0
      },
      "text/plain": [
       "Map(center=[26.9792212296875, -91.87030927187499], controls=(ZoomControl(options=['position', 'zoom_in_text', …"
      ]
     },
     "metadata": {},
     "output_type": "display_data"
    }
   ],
   "source": [
    "blk = blocks.loc[has_infra_by_quarter[pd.Period('1974Q2', 'Q-DEC')],:]\n",
    "\n",
    "create_map_from_geojson(blk.__geo_interface__,\n",
    "                        color=company_colors[\"equinor\"],\n",
    "                        control=True)"
   ]
  },
  {
   "cell_type": "code",
   "execution_count": 19,
   "metadata": {},
   "outputs": [
    {
     "name": "stderr",
     "output_type": "stream",
     "text": [
      "/Users/blasscock/.edm/envs/Equinor/lib/python3.6/site-packages/pandas/core/indexing.py:1418: FutureWarning: \n",
      "Passing list-likes to .loc or [] with any missing label will raise\n",
      "KeyError in the future, you can use .reindex() as an alternative.\n",
      "\n",
      "See the documentation here:\n",
      "https://pandas.pydata.org/pandas-docs/stable/user_guide/indexing.html#deprecate-loc-reindex-listlike\n",
      "  return self._getitem_tuple(key)\n"
     ]
    },
    {
     "data": {
      "application/vnd.jupyter.widget-view+json": {
       "model_id": "af9ad3673f5f4894a3aa48c3e95485d8",
       "version_major": 2,
       "version_minor": 0
      },
      "text/plain": [
       "Map(center=[26.9792212296875, -91.87030927187499], controls=(ZoomControl(options=['position', 'zoom_in_text', …"
      ]
     },
     "metadata": {},
     "output_type": "display_data"
    }
   ],
   "source": [
    "blk = blocks.loc[has_infra_by_quarter[pd.Period('2000Q4', 'Q-DEC')],:]\n",
    "\n",
    "create_map_from_geojson(blk.__geo_interface__,\n",
    "                        color=company_colors[\"equinor\"],\n",
    "                        control=True)"
   ]
  },
  {
   "cell_type": "code",
   "execution_count": 20,
   "metadata": {},
   "outputs": [
    {
     "data": {
      "application/vnd.jupyter.widget-view+json": {
       "model_id": "5444257938554fae875d50ddaa619c89",
       "version_major": 2,
       "version_minor": 0
      },
      "text/plain": [
       "Map(center=[26.9792212296875, -91.87030927187499], controls=(ZoomControl(options=['position', 'zoom_in_text', …"
      ]
     },
     "metadata": {},
     "output_type": "display_data"
    }
   ],
   "source": [
    "blk = blocks.loc[has_infra_by_quarter[pd.Period('2019Q4', 'Q-DEC')],:]\n",
    "\n",
    "create_map_from_geojson(blk.__geo_interface__,\n",
    "                        color=company_colors[\"equinor\"],\n",
    "                        control=True)"
   ]
  },
  {
   "cell_type": "code",
   "execution_count": 21,
   "metadata": {},
   "outputs": [],
   "source": [
    "from sklearn.neighbors import KernelDensity\n",
    "\n",
    "def infrastructure_score(blocks, period=pd.Period('1974Q2', 'Q-DEC')):\n",
    "    blk = blocks.loc[has_infra_by_quarter[period],:]\n",
    "    blk = blk[~blk.index.isna()].copy()\n",
    "    \n",
    "    # centers of every block\n",
    "    centers = [np.deg2rad(i.centroid.coords.xy) for i in blocks['geometry'].values]\n",
    "    long = [i[0][0] for i in centers]\n",
    "    lati = [i[1][0] for i in centers]\n",
    "    X = np.array((lati, long)).T\n",
    "\n",
    "    # centers for every block that has well infrastructure at specific time:\n",
    "    centers = [np.deg2rad(i.centroid.coords.xy) for i in blk['geometry'].values]\n",
    "    long = [i[0][0] for i in centers]\n",
    "    lati = [i[1][0] for i in centers]\n",
    "    Xp = np.array((lati, long)).T\n",
    "\n",
    "    # haversine give \"great circle distance\"\n",
    "    kde = KernelDensity(bandwidth=0.001, metric=\"haversine\")\n",
    "    kde.fit(Xp)\n",
    "    \n",
    "    blocks[\"id\"] = blocks.index\n",
    "    _infra_score = kde.score_samples(X)\n",
    "\n",
    "    indx = _infra_score > -10\n",
    "    blks = blocks[indx]\n",
    "    infra_score = {key:val for key,val in zip(blks[\"id\"].values, _infra_score[indx])}\n",
    "    \n",
    "    # return updated blocks dataframe with the score:\n",
    "    return blks, infra_score\n",
    "\n"
   ]
  },
  {
   "cell_type": "code",
   "execution_count": 22,
   "metadata": {},
   "outputs": [
    {
     "data": {
      "application/vnd.jupyter.widget-view+json": {
       "model_id": "3dd7e34dcbe5463f8cb9d6f6f792b053",
       "version_major": 2,
       "version_minor": 0
      },
      "text/plain": [
       "Map(center=[26.9792212296875, -91.87030927187499], controls=(ZoomControl(options=['position', 'zoom_in_text', …"
      ]
     },
     "metadata": {},
     "output_type": "display_data"
    }
   ],
   "source": [
    "from ipyleaflet import (basemap_to_tiles, basemaps, Choropleth, GeoJSON, Map)\n",
    "from branca.colormap import linear\n",
    "\n",
    "period = pd.Period('1974Q2', 'Q-DEC')\n",
    "blks, infra_score = infrastructure_score(blocks, period=period)\n",
    "\n",
    "layer = Choropleth(\n",
    "    geo_data=blks.__geo_interface__,\n",
    "    choro_data=infra_score,\n",
    "    colormap=linear.YlOrRd_04,\n",
    "    border_color='black',\n",
    "    style={'fillOpacity': 0.5, 'weight' : 0})\n",
    "\n",
    "center = (26.9792212296875, -91.87030927187499)\n",
    "m = Map(center=center, \n",
    "                   layers=(basemap_to_tiles(basemaps.Esri.WorldStreetMap,),),\n",
    "                   zoom = 6)\n",
    "\n",
    "m.add_layer(layer)\n",
    "\n",
    "blk = blocks.loc[has_infra_by_quarter[period],:]\n",
    "x = GeoJSON(data=blk.__geo_interface__,\n",
    "            style={'fillOpacity':0.25, 'color':'black'})\n",
    "m.add_layer(x)\n",
    "\n",
    "m"
   ]
  },
  {
   "cell_type": "code",
   "execution_count": 23,
   "metadata": {},
   "outputs": [
    {
     "name": "stderr",
     "output_type": "stream",
     "text": [
      "/Users/blasscock/.edm/envs/Equinor/lib/python3.6/site-packages/pandas/core/indexing.py:1418: FutureWarning: \n",
      "Passing list-likes to .loc or [] with any missing label will raise\n",
      "KeyError in the future, you can use .reindex() as an alternative.\n",
      "\n",
      "See the documentation here:\n",
      "https://pandas.pydata.org/pandas-docs/stable/user_guide/indexing.html#deprecate-loc-reindex-listlike\n",
      "  return self._getitem_tuple(key)\n",
      "/Users/blasscock/.edm/envs/Equinor/lib/python3.6/site-packages/pandas/core/indexing.py:1418: FutureWarning: \n",
      "Passing list-likes to .loc or [] with any missing label will raise\n",
      "KeyError in the future, you can use .reindex() as an alternative.\n",
      "\n",
      "See the documentation here:\n",
      "https://pandas.pydata.org/pandas-docs/stable/user_guide/indexing.html#deprecate-loc-reindex-listlike\n",
      "  return self._getitem_tuple(key)\n"
     ]
    },
    {
     "data": {
      "application/vnd.jupyter.widget-view+json": {
       "model_id": "c40e46c2aac749c5b7e84eade5eab798",
       "version_major": 2,
       "version_minor": 0
      },
      "text/plain": [
       "Map(center=[26.9792212296875, -91.87030927187499], controls=(ZoomControl(options=['position', 'zoom_in_text', …"
      ]
     },
     "metadata": {},
     "output_type": "display_data"
    }
   ],
   "source": [
    "from ipyleaflet import (basemap_to_tiles, basemaps, Choropleth, GeoJSON, Map)\n",
    "from branca.colormap import linear\n",
    "\n",
    "period = pd.Period('2000Q4', 'Q-DEC')\n",
    "blks, infra_score = infrastructure_score(blocks, period=period)\n",
    "\n",
    "layer = Choropleth(\n",
    "    geo_data=blks.__geo_interface__,\n",
    "    choro_data=infra_score,\n",
    "    colormap=linear.YlOrRd_04,\n",
    "    border_color='black',\n",
    "    style={'fillOpacity': 0.5, 'weight' : 0})\n",
    "\n",
    "center = (26.9792212296875, -91.87030927187499)\n",
    "m = Map(center=center, \n",
    "                   layers=(basemap_to_tiles(basemaps.Esri.WorldStreetMap,),),\n",
    "                   zoom = 6)\n",
    "\n",
    "m.add_layer(layer)\n",
    "\n",
    "blk = blocks.loc[has_infra_by_quarter[period],:]\n",
    "x = GeoJSON(data=blk.__geo_interface__,\n",
    "            style={'fillOpacity':0.25, 'color':'black'})\n",
    "m.add_layer(x)\n",
    "\n",
    "m"
   ]
  },
  {
   "cell_type": "code",
   "execution_count": 12,
   "metadata": {},
   "outputs": [
    {
     "data": {
      "application/vnd.jupyter.widget-view+json": {
       "model_id": "8f8e2a3751aa487d86b0fa302f725484",
       "version_major": 2,
       "version_minor": 0
      },
      "text/plain": [
       "Map(center=[26.9792212296875, -91.87030927187499], controls=(ZoomControl(options=['position', 'zoom_in_text', …"
      ]
     },
     "metadata": {},
     "output_type": "display_data"
    }
   ],
   "source": [
    "from ipyleaflet import (basemap_to_tiles, basemaps, Choropleth, GeoJSON, Map)\n",
    "from branca.colormap import linear\n",
    "\n",
    "period = pd.Period('2019Q4', 'Q-DEC')\n",
    "blks, infra_score = infrastructure_score(blocks, period=period)\n",
    "\n",
    "layer = Choropleth(\n",
    "    geo_data=blks.__geo_interface__,\n",
    "    choro_data=infra_score,\n",
    "    colormap=linear.YlOrRd_04,\n",
    "    border_color='black',\n",
    "    style={'fillOpacity': 0.5, 'weight' : 0})\n",
    "\n",
    "center = (26.9792212296875, -91.87030927187499)\n",
    "m = Map(center=center, \n",
    "                   layers=(basemap_to_tiles(basemaps.Esri.WorldStreetMap,),),\n",
    "                   zoom = 6)\n",
    "\n",
    "m.add_layer(layer)\n",
    "\n",
    "blk = blocks.loc[has_infra_by_quarter[period],:]\n",
    "x = GeoJSON(data=blk.__geo_interface__,\n",
    "            style={'fillOpacity':0.25, 'color':'black'})\n",
    "m.add_layer(x)\n",
    "\n",
    "m"
   ]
  },
  {
   "cell_type": "markdown",
   "metadata": {},
   "source": [
    "Infrastructure lead exploration: Implement (min distance to thing).\n",
    "20 miles \"tie\" back; can add subsea infrastructure. Bathymetry.\n",
    "\n",
    "For leases \"concentration/density\" of leases more important for exploration."
   ]
  },
  {
   "cell_type": "code",
   "execution_count": null,
   "metadata": {},
   "outputs": [],
   "source": []
  },
  {
   "cell_type": "code",
   "execution_count": null,
   "metadata": {},
   "outputs": [],
   "source": []
  },
  {
   "cell_type": "code",
   "execution_count": null,
   "metadata": {},
   "outputs": [],
   "source": []
  },
  {
   "cell_type": "code",
   "execution_count": null,
   "metadata": {},
   "outputs": [],
   "source": []
  }
 ],
 "metadata": {
  "kernelspec": {
   "display_name": "Python 3",
   "language": "python",
   "name": "python3"
  },
  "language_info": {
   "codemirror_mode": {
    "name": "ipython",
    "version": 3
   },
   "file_extension": ".py",
   "mimetype": "text/x-python",
   "name": "python",
   "nbconvert_exporter": "python",
   "pygments_lexer": "ipython3",
   "version": "3.6.9"
  }
 },
 "nbformat": 4,
 "nbformat_minor": 4
}
