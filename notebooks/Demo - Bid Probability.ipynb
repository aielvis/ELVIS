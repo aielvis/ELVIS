{
 "cells": [
  {
   "cell_type": "code",
   "execution_count": 1,
   "metadata": {},
   "outputs": [],
   "source": [
    "from os.path import dirname, join\n",
    "from elvis.visualization.utils import load_dash_data, slice_by_area\n",
    "from elvis import datasets\n",
    "from elvis.io.boem_from_file import (boem_leases,\n",
    "                                     boem_lease_by_owner,\n",
    "                                     get_neighbourhood_leases, \n",
    "                                     get_blocks, \n",
    "                                     read_curated_neighbourhoods,\n",
    "                                     freeze_bids,\n",
    "                                     load_num_wells,\n",
    "                                     boem_platform_structures)\n",
    "\n",
    "from elvis.visualization.mapping import (bathymetry_underlay,\n",
    "                                         create_map_from_geojson,\n",
    "                                         colors as company_colors,\n",
    "                                         geojson_underlay)\n",
    "\n",
    "from elvis.model.backtesting import BidData, KernalAvgByBlock, LeaseBasedFeatures, explanatory_vars\n",
    "\n",
    "from itertools import chain\n",
    "import geopandas as gpd\n",
    "import numpy as np\n",
    "import pandas as pd\n",
    "import tqdm\n",
    "\n",
    "\n",
    "base_directory = dirname(datasets.__file__)\n",
    "freeze_data = join(base_directory, 'Freeze_Data\\ 12_4_2019')\n",
    "\n",
    "# figure out a \"20m arc length but in radians\"\n",
    "EARTH_RADIUS_M = 1000*6378.1\n",
    "TEN_MILES = 10 * 1.6 *1000\n",
    "TWENTY_MILES = 20 * 1.6 *1000\n",
    "\n",
    "#\n",
    "period_size = 'Q'\n",
    "# date range for backtesting\n",
    "date_range = pd.date_range(start=pd.datetime(2003,1,1), \n",
    "                           end=pd.datetime(2020,1,1), \n",
    "                           freq=period_size)\n",
    "periods = date_range.to_period(period_size)\n",
    "current_period = pd.Timestamp.now().to_period('Q')\n"
   ]
  },
  {
   "cell_type": "code",
   "execution_count": 2,
   "metadata": {},
   "outputs": [
    {
     "name": "stderr",
     "output_type": "stream",
     "text": [
      "/Users/blasscock/.edm/envs/Equinor/lib/python3.6/site-packages/IPython/core/interactiveshell.py:2874: PerformanceWarning: indexing past lexsort depth may impact performance.\n",
      "  return runner(coro)\n",
      "/Users/blasscock/.edm/envs/Equinor/lib/python3.6/site-packages/IPython/core/interactiveshell.py:3051: PerformanceWarning: indexing past lexsort depth may impact performance.\n",
      "  interactivity=interactivity, compiler=compiler, result=result)\n"
     ]
    }
   ],
   "source": [
    "blocks = get_blocks(base_directory)\n",
    "blocks.set_index(\"AREABLK\", inplace=True)\n",
    "\n",
    "leases = boem_leases(base_directory)\n",
    "leases.sort_index(inplace=True)\n",
    "leases[\"Lease Effective Date\"] = leases[\"Lease Effective Date\"].dt.to_period(period_size)\n",
    "leases[\"Lease Expiration Date\"] = leases[\"Lease Expiration Date\"].dt.to_period(period_size)\n",
    "# drop bad data\n",
    "leases.dropna(subset=[\"Lease Effective Date\"], inplace=True)\n",
    "\n",
    "wells = load_num_wells(base_directory)\n",
    "\n",
    "qdata = pd.read_csv(join(base_directory, \"Quarterly_ProdData.csv\"))\n",
    "qdata['Production Date'] = [pd.Period(i) for i in qdata['Production Date'].values]\n",
    "qdata.set_index([\"Lease Number\", \"Production Date\"], inplace=True)\n",
    "\n",
    "planning_areas = pd.read_csv(join(base_directory,\"blocks_by_planningarea.csv\"))\n",
    "planning_areas.set_index(\"AREABLK\", inplace=True)\n",
    "\n",
    "bid_data, winning_bids, consortia = freeze_bids(freeze_data)\n",
    "consortia.set_index([\"AREABLK\", \"Lease Number\"], inplace=True)\n",
    "\n",
    "# only consider leases that have associated bids (edge cases)\n",
    "_lease = winning_bids.merge(leases, how=\"inner\", on=[\"AREABLK\", \"Lease Number\"], right_index=True)\n",
    "leases = _lease[leases.columns]\n",
    "\n",
    "# infrastructure\n",
    "platform_structures = boem_platform_structures(base_directory)\n",
    "platform_structures[\"AREABLK\"] = platform_structures[\"AREABLK\"].str.replace(\"\\W\",\"\")\n",
    "platform_structures.dropna(subset=[\"AREABLK\"], inplace=True)\n",
    "platform_structures.set_index(\"AREABLK\", inplace=True)\n",
    "#\n",
    "platform_structures[\"Install Period\"] = platform_structures[\"Install Date\"].dt.to_period(period_size)\n",
    "platform_structures[\"Removal Period\"] = platform_structures[\"Removal Date\"].dt.to_period(period_size)\n",
    "\n",
    "# object for dealing with averaging over neighbourhood\n",
    "kde = KernalAvgByBlock(base_directory)"
   ]
  },
  {
   "cell_type": "code",
   "execution_count": 3,
   "metadata": {},
   "outputs": [],
   "source": [
    "blocks = get_blocks(base_directory)\n",
    "blocks.set_index(\"AREABLK\", inplace=True)\n",
    "\n",
    "bid_data, winning_bids, consortia = freeze_bids(freeze_data)\n",
    "bd = BidData(bid_data=bid_data, \n",
    "             start_period=pd.Period(pd.datetime(2009,1,1), \"Q\"))"
   ]
  },
  {
   "cell_type": "code",
   "execution_count": 4,
   "metadata": {},
   "outputs": [
    {
     "name": "stderr",
     "output_type": "stream",
     "text": [
      "100%|██████████| 29102/29102 [01:12<00:00, 400.83it/s]\n"
     ]
    }
   ],
   "source": [
    "all_blocks = blocks.index.values\n",
    "# create generator of explanatory variables.\n",
    "lbfs = {area_block:LeaseBasedFeatures(area_block=area_block, kde=kde) for \n",
    "                area_block in tqdm.tqdm(all_blocks)}"
   ]
  },
  {
   "cell_type": "code",
   "execution_count": 5,
   "metadata": {},
   "outputs": [],
   "source": [
    "auctions = bd.hold_auctions(leases)"
   ]
  },
  {
   "cell_type": "code",
   "execution_count": null,
   "metadata": {},
   "outputs": [
    {
     "name": "stderr",
     "output_type": "stream",
     "text": [
      "  5%|▌         | 145/2871 [00:30<10:28,  4.34it/s]/Users/blasscock/.edm/envs/Equinor/lib/python3.6/site-packages/IPython/core/interactiveshell.py:3242: PerformanceWarning: indexing past lexsort depth may impact performance.\n",
      "  if (await self.run_code(code, result,  async_=asy)):\n",
      " 12%|█▏        | 340/2871 [01:20<13:56,  3.02it/s]"
     ]
    }
   ],
   "source": [
    "\n",
    "for i, val in enumerate(bd.hold_auctions(leases)):\n",
    "\n",
    "    period, _leases, mlot = val\n",
    "\n",
    "    area_blocks = mlot.index.get_level_values(0).values\n",
    "    # everything in a 20-mile radius of every block bid on\n",
    "    aoi = list(chain(*[list(lbfs[blk]._nn.keys()) for blk in area_blocks]))\n",
    "    aoi = np.unique(aoi)\n",
    "\n",
    "    result = [explanatory_vars(lbfs[arr], _leases, bid_data, wells, qdata, platform_structures, period) for \n",
    "                         arr in tqdm.tqdm(aoi)]\n",
    "    #\n",
    "    X = np.vstack(result)\n",
    "\n",
    "    has_bid = [i in mlot.index.get_level_values(0) for i in aoi]\n",
    "\n",
    "    bid = np.zeros(len(has_bid))\n",
    "    bid[:] = -1\n",
    "    bid[has_bid] = [mlot.loc[i,\"BID\"].values[0] for i in aoi if i in \n",
    "                        mlot.index.get_level_values(0)]\n",
    "    has_bid = np.int_(has_bid)\n",
    "\n",
    "    # if we couldn't figure it out:\n",
    "    indx = ~np.any(np.isnan(X), axis=1)\n",
    "    X = X[indx,:]\n",
    "    bid = bid[indx]\n",
    "    has_bid = has_bid[indx]\n",
    "\n",
    "    # use the \"i\" index for the lease auction to reloade over time.\n",
    "    np.save(join(base_directory, \"bid-model-1\", \"X-{}.npy\".format(i)),X)\n",
    "    np.save(join(base_directory, \"bid-model-1\", \"bid-{}.npy\".format(i)),bid)\n",
    "    np.save(join(base_directory, \"bid-model-1\", \"has_bid-{}.npy\".format(i)),has_bid)    \n",
    "    mlot.to_csv(join(base_directory, \"bid-model-1\", \"bids-{}.csv\".format(i)))    "
   ]
  },
  {
   "cell_type": "code",
   "execution_count": null,
   "metadata": {},
   "outputs": [],
   "source": []
  }
 ],
 "metadata": {
  "kernelspec": {
   "display_name": "Python 3",
   "language": "python",
   "name": "python3"
  },
  "language_info": {
   "codemirror_mode": {
    "name": "ipython",
    "version": 3
   },
   "file_extension": ".py",
   "mimetype": "text/x-python",
   "name": "python",
   "nbconvert_exporter": "python",
   "pygments_lexer": "ipython3",
   "version": "3.6.9"
  }
 },
 "nbformat": 4,
 "nbformat_minor": 4
}
